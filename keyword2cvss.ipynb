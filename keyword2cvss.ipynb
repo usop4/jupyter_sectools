{
 "cells": [
  {
   "cell_type": "code",
   "execution_count": 61,
   "metadata": {},
   "outputs": [
    {
     "data": {
      "image/png": "[encoded data removed]",
      "text/plain": [
       "<matplotlib.figure.Figure at 0x7f75404a4210>"
      ]
     },
     "metadata": {},
     "output_type": "display_data"
    }
   ],
   "source": [
    "import urllib2\n",
    "\n",
    "key = \"struts\"\n",
    "url = \"https://jvndb.jvn.jp/search/index.php?mode=_vulnerability_search_IA_VulnSearch&lang=ja&useSynonym=1&keyword=\"+urllib2.quote(key)\n",
    "\n",
    "import pandas as pd\n",
    "import matplotlib.pyplot as plt\n",
    "%matplotlib inline\n",
    "\n",
    "from bs4 import BeautifulSoup\n",
    "instance = urllib2.urlopen(url)\n",
    "soup = BeautifulSoup(instance, \"html.parser\")\n",
    "\n",
    "date_list = []\n",
    "cvss2_list = []\n",
    "cvss3_list = []\n",
    "\n",
    "for i in range(2,100):\n",
    "    cvss3 = soup.select_one(\"table.result_class > tr:nth-of-type(\"+str(i)+\") > td:nth-of-type(3)\")\n",
    "    cvss2 = soup.select_one(\"table.result_class > tr:nth-of-type(\"+str(i)+\") > td:nth-of-type(4)\")\n",
    "    date = soup.select_one(\"table.result_class > tr:nth-of-type(\"+str(i)+\") > td:nth-of-type(5)\")\n",
    "    if hasattr(date,\"text\"):\n",
    "        date_list.append(date.text.replace(\"/\",\"-\")+\" 00:00:00\")\n",
    "        if \"-\" not in cvss3:\n",
    "            cvss3_list.append(float(cvss3.text))\n",
    "        else:\n",
    "            cvss3_list.append(0)\n",
    "        if \"-\" not in cvss2:\n",
    "            cvss2_list.append(float(cvss2.text))\n",
    "        else:\n",
    "            cvss2_list.append(0)\n",
    "\n",
    "df = pd.DataFrame({\n",
    "    'date': pd.to_datetime(date_list),\n",
    "    'cvss3': cvss3_list,\n",
    "    'cvss2': cvss2_list\n",
    "})\n",
    "\n",
    "df = df.set_index('date')\n",
    "plt.scatter(df.index, df['cvss3'])\n",
    "plt.scatter(df.index, df['cvss2'])\n",
    "\n",
    "plt.title(key)\n",
    "plt.legend([\"cvss3\", \"cvss2\"])\n",
    "\n",
    "plt.show()"
   ]
  },
  {
   "cell_type": "code",
   "execution_count": null,
   "metadata": {},
   "outputs": [],
   "source": []
  }
 ],
 "metadata": {
  "kernelspec": {
   "display_name": "Python 2",
   "language": "python",
   "name": "python2"
  },
  "language_info": {
   "codemirror_mode": {
    "name": "ipython",
    "version": 2
   },
   "file_extension": ".py",
   "mimetype": "text/x-python",
   "name": "python",
   "nbconvert_exporter": "python",
   "pygments_lexer": "ipython2",
   "version": "2.7.14"
  }
 },
 "nbformat": 4,
 "nbformat_minor": 2
}
