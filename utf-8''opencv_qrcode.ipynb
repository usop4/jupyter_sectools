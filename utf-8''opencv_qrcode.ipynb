{
  "cells": [
    {
      "metadata": {
        "trusted": true
      },
      "cell_type": "code",
      "source": "!pip install opencv-python",
      "execution_count": 3,
      "outputs": [
        {
          "output_type": "stream",
          "text": "Collecting opencv-python\n\u001b[?25l  Downloading https://files.pythonhosted.org/packages/37/49/874d119948a5a084a7ebe98308214098ef3471d76ab74200f9800efeef15/opencv_python-4.0.0.21-cp36-cp36m-manylinux1_x86_64.whl (25.4MB)\n\u001b[K    100% |████████████████████████████████| 25.4MB 13kB/s eta 0:00:01   35% |███████████▍                    | 9.1MB 1.6MB/s eta 0:00:11    38% |████████████▏                   | 9.7MB 2.3MB/s eta 0:00:07    46% |███████████████                 | 11.9MB 2.1MB/s eta 0:00:07    52% |████████████████▉               | 13.4MB 2.4MB/s eta 0:00:05    55% |█████████████████▊              | 14.1MB 2.4MB/s eta 0:00:05    73% |███████████████████████▋        | 18.8MB 2.0MB/s eta 0:00:04    83% |██████████████████████████▊     | 21.2MB 2.9MB/s eta 0:00:02    89% |████████████████████████████▌   | 22.7MB 2.2MB/s eta 0:00:02   93% |██████████████████████████████  | 23.8MB 1.5MB/s eta 0:00:02    95% |██████████████████████████████▊ | 24.4MB 2.2MB/s eta 0:00:01\n\u001b[?25hRequirement already satisfied: numpy>=1.11.3 in /home/nbuser/anaconda3_501/lib/python3.6/site-packages (from opencv-python) (1.14.6)\nInstalling collected packages: opencv-python\nSuccessfully installed opencv-python-4.0.0.21\n",
          "name": "stdout"
        }
      ]
    },
    {
      "metadata": {
        "trusted": true
      },
      "cell_type": "code",
      "source": "import numpy as np\nimport cv2\nimport matplotlib.pyplot as plt\n\ninput_image = cv2.imread('qrcode.png')\noutput_image = input_image.copy()\ndetector = cv2.QRCodeDetector()\ndata, points, straight_qrcode = detector.detectAndDecode(input_image)\nif data:\n    print(f'decoded data: {data}')\n    for i in range(4):\n        cv2.line(output_image, tuple(points[i][0]), tuple(points[(i + 1) % len(points)][0]), (0, 0, 255), 4)\n    show_img = cv2.cvtColor(output_image, cv2.COLOR_BGR2RGB) \n    plt.imshow(show_img)\n    print(f'QR code version: {((straight_qrcode.shape[0] - 21) / 4) + 1}')",
      "execution_count": 36,
      "outputs": [
        {
          "output_type": "stream",
          "text": "decoded data: Hello, OpenCV\nQR code version: 1.0\n",
          "name": "stdout"
        },
        {
          "output_type": "display_data",
          "data": {
            "image/png": "[encoded data removed]",
            "text/plain": "<Figure size 432x288 with 1 Axes>"
          },
          "metadata": {
            "needs_background": "light"
          }
        }
      ]
    },
    {
      "metadata": {},
      "cell_type": "markdown",
      "source": "ref:\nhttps://docs.opencv.org/4.0.1/de/dc3/classcv_1_1QRCodeDetector.html\nhttps://rest-term.com/archives/3491/"
    }
  ],
  "metadata": {
    "kernelspec": {
      "name": "python36",
      "display_name": "Python 3.6",
      "language": "python"
    },
    "language_info": {
      "mimetype": "text/x-python",
      "nbconvert_exporter": "python",
      "name": "python",
      "pygments_lexer": "ipython3",
      "version": "3.6.6",
      "file_extension": ".py",
      "codemirror_mode": {
        "version": 3,
        "name": "ipython"
      }
    }
  },
  "nbformat": 4,
  "nbformat_minor": 2
}