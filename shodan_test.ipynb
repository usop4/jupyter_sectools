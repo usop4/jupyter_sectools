{
 "cells": [
  {
   "cell_type": "code",
   "execution_count": 30,
   "metadata": {},
   "outputs": [
    {
     "name": "stdout",
     "output_type": "stream",
     "text": [
      "Requirement already satisfied: shodan in /home/nbuser/anaconda3_501/lib/python3.6/site-packages (1.7.7)\n",
      "Requirement already satisfied: requests>=2.2.1 in /home/nbuser/anaconda3_501/lib/python3.6/site-packages (from shodan) (2.18.4)\n",
      "Requirement already satisfied: click in /home/nbuser/anaconda3_501/lib/python3.6/site-packages (from shodan) (6.7)\n",
      "Requirement already satisfied: XlsxWriter in /home/nbuser/anaconda3_501/lib/python3.6/site-packages (from shodan) (1.0.2)\n",
      "Requirement already satisfied: colorama in /home/nbuser/anaconda3_501/lib/python3.6/site-packages (from shodan) (0.3.9)\n",
      "Requirement already satisfied: click-plugins in /home/nbuser/anaconda3_501/lib/python3.6/site-packages (from shodan) (1.0.3)\n",
      "Requirement already satisfied: chardet<3.1.0,>=3.0.2 in /home/nbuser/anaconda3_501/lib/python3.6/site-packages (from requests>=2.2.1->shodan) (3.0.4)\n",
      "Requirement already satisfied: idna<2.7,>=2.5 in /home/nbuser/anaconda3_501/lib/python3.6/site-packages (from requests>=2.2.1->shodan) (2.6)\n",
      "Requirement already satisfied: urllib3<1.23,>=1.21.1 in /home/nbuser/anaconda3_501/lib/python3.6/site-packages (from requests>=2.2.1->shodan) (1.22)\n",
      "Requirement already satisfied: certifi>=2017.4.17 in /home/nbuser/anaconda3_501/lib/python3.6/site-packages (from requests>=2.2.1->shodan) (2017.7.27.1)\n",
      "\u001b[31mgrpcio 1.11.0 has requirement protobuf>=3.5.0.post1, but you'll have protobuf 3.4.1 which is incompatible.\u001b[0m\n"
     ]
    }
   ],
   "source": [
    "!pip install shodan"
   ]
  },
  {
   "cell_type": "code",
   "execution_count": 6,
   "metadata": {},
   "outputs": [
    {
     "name": "stdout",
     "output_type": "stream",
     "text": [
      "········\n"
     ]
    }
   ],
   "source": [
    "import shodan\n",
    "from getpass import getpass\n",
    "API_KEY = getpass()"
   ]
  },
  {
   "cell_type": "code",
   "execution_count": 29,
   "metadata": {},
   "outputs": [
    {
     "name": "stdout",
     "output_type": "stream",
     "text": [
      "['vodafonedsl.it'] Server: arduino-WebSocket-Server\n",
      "['vnpt.vn'] Server: arduino-WebSocket-Server\n",
      "[] Server: arduino-WebSocket-Server\n",
      "['t-ipconnect.de'] Server: arduino\n",
      "['triolan.net'] Server: arduino\n",
      "['rdsnet.ro'] Server: arduino\n",
      "['t-ipconnect.de'] Server: arduino\n",
      "[] Server: arduino-WebSocket-Server\n",
      "['triolan.net'] Server: arduino\n",
      "[] Server: arduino-WebSocket-Server\n",
      "['meganetbr.com.br'] Server: arduino-WebSocket-Server\n",
      "['wanadoo.fr'] Server: arduino-WebSocket-Server\n",
      "['wanadoo.fr'] Server: arduino-WebSocket-Server\n",
      "[] Server: arduino-WebSocket-Server\n",
      "['tpnet.pl'] Server: arduino-WebSocket-Server\n",
      "['vodafone-ip.de'] Server: arduino-WebSocket-Server\n",
      "[] Server: arduino-WebSocket-Server\n",
      "['tdc.net'] Server: arduino-WebSocket-Server\n",
      "[] Server: arduino-WebSocket-Server\n",
      "['comcast.net'] Server: arduino-WebSocket-Server\n",
      "['cgocable.ca'] Server: arduino-WebSocket-Server\n",
      "['tpnet.pl'] Server: arduino-WebSocket-Server\n",
      "[] Server: arduino-WebSocket-Server\n",
      "['chello.pl'] Server: arduino-WebSocket-Server\n",
      "['t-ipconnect.de'] Server: arduino-WebSocket-Server\n",
      "['triolan.net'] Server: arduino\n",
      "['triolan.net'] Server: arduino\n",
      "['t-ipconnect.de'] Server: arduino\n",
      "['triolan.net'] Server: arduino\n",
      "[] Server: arduino-WebSocket-Server\n",
      "[] Server: arduino-WebSocket-Server\n",
      "['triolan.net'] Server: arduino\n",
      "['comhem.se'] Server: arduino-WebSocket-Server\n",
      "['triolan.net'] Server: arduino\n",
      "[] Server: arduino-WebSocket-Server\n",
      "['triolan.net'] Server: arduino\n",
      "[] Server: arduino-WebSocket-Server\n",
      "['amis.net'] Server: arduino-WebSocket-Server\n",
      "[] Server: arduino\n",
      "['triolan.net'] Server: arduino\n",
      "['netia.com.pl'] Server: arduino-WebSocket-Server\n",
      "['tpnet.pl'] Server: arduino-WebSocket-Server\n"
     ]
    }
   ],
   "source": [
    "import pprint\n",
    "query = 'arduino'\n",
    "\n",
    "try:\n",
    "        api = shodan.Shodan(API_KEY)\n",
    "        result = api.search(query)\n",
    "        for service in result['matches']:\n",
    "                for header in service['data'].splitlines():\n",
    "                    if 'Server:' in header:\n",
    "                        if 'arduino' in header:\n",
    "                            print('{0} {1}'.format(service['domains'], header))\n",
    "except Exception as e:\n",
    "        print('Error: {0}'.format(e))\n"
   ]
  },
  {
   "cell_type": "code",
   "execution_count": null,
   "metadata": {},
   "outputs": [],
   "source": []
  }
 ],
 "metadata": {
  "kernelspec": {
   "display_name": "Python 3.6",
   "language": "python",
   "name": "python36"
  },
  "language_info": {
   "codemirror_mode": {
    "name": "ipython",
    "version": 3
   },
   "file_extension": ".py",
   "mimetype": "text/x-python",
   "name": "python",
   "nbconvert_exporter": "python",
   "pygments_lexer": "ipython3",
   "version": "3.6.3"
  }
 },
 "nbformat": 4,
 "nbformat_minor": 2
}
