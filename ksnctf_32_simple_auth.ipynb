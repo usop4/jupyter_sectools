{
 "cells": [
  {
   "cell_type": "code",
   "execution_count": 1,
   "metadata": {},
   "outputs": [
    {
     "name": "stdout",
     "output_type": "stream",
     "text": [
      "Requirement already satisfied: pycurl in /home/nbuser/anaconda3_501/lib/python3.6/site-packages (7.43.0)\n",
      "\u001b[31mgrpcio 1.11.0 has requirement protobuf>=3.5.0.post1, but you'll have protobuf 3.4.1 which is incompatible.\u001b[0m\n"
     ]
    }
   ],
   "source": [
    "!pip install pycurl"
   ]
  },
  {
   "cell_type": "code",
   "execution_count": 1,
   "metadata": {},
   "outputs": [],
   "source": [
    "import pycurl\n",
    "from io import BytesIO\n",
    "\n",
    "buffer = BytesIO()\n",
    "c = pycurl.Curl()\n",
    "c.setopt(c.URL, 'http://ctfq.sweetduet.info:10080/~q32/auth.php')\n",
    "c.setopt(c.WRITEDATA, buffer)\n",
    "c.setopt(pycurl.POST, 1)\n",
    "c.setopt(pycurl.HTTPPOST, [('password[1]', 'dummy'),('password[2]', 'dummy')])\n",
    "\n",
    "c.perform()\n",
    "c.close()\n",
    "\n",
    "body = buffer.getvalue()\n",
    "#print(body.decode('iso-8859-1'))"
   ]
  }
 ],
 "metadata": {
  "kernelspec": {
   "display_name": "Python 3.6",
   "language": "python",
   "name": "python36"
  },
  "language_info": {
   "codemirror_mode": {
    "name": "ipython",
    "version": 3
   },
   "file_extension": ".py",
   "mimetype": "text/x-python",
   "name": "python",
   "nbconvert_exporter": "python",
   "pygments_lexer": "ipython3",
   "version": "3.6.3"
  }
 },
 "nbformat": 4,
 "nbformat_minor": 2
}
